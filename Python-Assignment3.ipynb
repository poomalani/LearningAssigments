{
 "cells": [
  {
   "cell_type": "code",
   "execution_count": 51,
   "metadata": {},
   "outputs": [
    {
     "name": "stdout",
     "output_type": "stream",
     "text": [
      "Enter Numerator:2\n",
      "Enter Denominator: 0\n",
      "Divided by ZERO Error: Denominator passed to div function cannot be ZERO\n",
      "None\n"
     ]
    }
   ],
   "source": [
    "def div():\n",
    "    try:\n",
    "        x=int(input('Enter Numerator:'))\n",
    "        y=int(input('Enter Denominator: '))\n",
    "        return x/y\n",
    "    except ZeroDivisionError:\n",
    "        print('Divided by ZERO Error: Denominator passed to div function cannot be ZERO')\n",
    "    except:\n",
    "        print('Error: Please enter valid number input for division operation')\n",
    "    \n",
    "print(div())\n"
   ]
  },
  {
   "cell_type": "code",
   "execution_count": 52,
   "metadata": {},
   "outputs": [
    {
     "name": "stdout",
     "output_type": "stream",
     "text": [
      "Americans play Baseball.\n",
      "Americans play Cricket.\n",
      "Americans watch Baseball.\n",
      "Americans watch Cricket.\n",
      "Indians play Baseball.\n",
      "Indians play Cricket.\n",
      "Indians watch Baseball.\n",
      "Indians watch Cricket.\n"
     ]
    }
   ],
   "source": [
    "from itertools import product\n",
    "subjects=[\"Americans\",\"Indians\"]\n",
    "verbs=[\"play\",\"watch\"]\n",
    "objects=[\"Baseball\",'Cricket']\n",
    "\n",
    "#for i in subjects:\n",
    "#    for j in verbs:\n",
    "#        for k in objects:\n",
    "#            print(i+' '+j+' '+k +'.')\n",
    "\n",
    "#x=[print(i+' '+j+' '+k +'.') for i in subjects for j in verbs for k in objects]\n",
    "\n",
    "for i in product(subjects,verbs,objects):\n",
    "    print (i[0]+' '+i[1]+' '+i[2]+'.')\n"
   ]
  },
  {
   "cell_type": "code",
   "execution_count": 53,
   "metadata": {},
   "outputs": [
    {
     "name": "stdout",
     "output_type": "stream",
     "text": [
      "MyVander called with function parameter as increasing order - \n",
      "[[  1   1   1   1   1]\n",
      " [  1   2   4   8  16]\n",
      " [  1   3   9  27  81]\n",
      " [  1   4  16  64 256]\n",
      " [  1   5  25 125 625]]\n",
      "MyVander called with function parameter as decreasing order - \n",
      "[[  1   1   1   1   1]\n",
      " [ 16   8   4   2   1]\n",
      " [ 81  27   9   3   1]\n",
      " [256  64  16   4   1]\n",
      " [625 125  25   5   1]]\n"
     ]
    }
   ],
   "source": [
    "import numpy as np\n",
    "\n",
    "def myvander(x,n,b):\n",
    "    if b>0:\n",
    "        return np.column_stack(input_matrix**(n-i-1) for i in range(n-1,-1,-1))\n",
    "    else:\n",
    "        return np.column_stack(input_matrix**(n-i-1) for i in range(n))\n",
    "      \n",
    "input_matrix=np.array((1,2,3,4,5))\n",
    "n=5\n",
    "\n",
    "print(\"MyVander called with function parameter as increasing order - \")\n",
    "print(myvander(input_matrix,n,True))\n",
    "\n",
    "print(\"MyVander called with function parameter as decreasing order - \")\n",
    "print(myvander(input_matrix,n,False))\n",
    "\n",
    "\n",
    "\n"
   ]
  },
  {
   "cell_type": "code",
   "execution_count": null,
   "metadata": {},
   "outputs": [],
   "source": []
  }
 ],
 "metadata": {
  "kernelspec": {
   "display_name": "Python 3",
   "language": "python",
   "name": "python3"
  },
  "language_info": {
   "codemirror_mode": {
    "name": "ipython",
    "version": 3
   },
   "file_extension": ".py",
   "mimetype": "text/x-python",
   "name": "python",
   "nbconvert_exporter": "python",
   "pygments_lexer": "ipython3",
   "version": "3.6.5"
  }
 },
 "nbformat": 4,
 "nbformat_minor": 2
}
