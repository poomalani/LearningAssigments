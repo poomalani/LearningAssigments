{
 "cells": [
  {
   "cell_type": "markdown",
   "metadata": {},
   "source": [
    "Write a Python Program to implement your own myreduce() function which works exactly like\n",
    "Python's built-in function reduce()"
   ]
  },
  {
   "cell_type": "code",
   "execution_count": 5,
   "metadata": {},
   "outputs": [
    {
     "data": {
      "text/plain": [
       "16"
      ]
     },
     "execution_count": 5,
     "metadata": {},
     "output_type": "execute_result"
    }
   ],
   "source": [
    "def do_sum(a,b): \n",
    "    return a+b\n",
    "def do_multiply(a,b): \n",
    "    return a*b\n",
    "def MyReduce(func,l,i):\n",
    "    t=0    \n",
    "    x=0\n",
    "    if i is not None:\n",
    "        t=i\n",
    "    while x <= len(l)-1:\n",
    "        t=func(t,l[x])\n",
    "        x=x+1\n",
    "    return t\n",
    "       \n",
    "MyReduce(do_sum,[1,2,3],10) "
   ]
  },
  {
   "cell_type": "code",
   "execution_count": 6,
   "metadata": {},
   "outputs": [
    {
     "data": {
      "text/plain": [
       "120"
      ]
     },
     "execution_count": 6,
     "metadata": {},
     "output_type": "execute_result"
    }
   ],
   "source": [
    "MyReduce(do_multiply,[1,2,3,4,5],1)"
   ]
  },
  {
   "cell_type": "markdown",
   "metadata": {},
   "source": [
    "Write a Python program to implement your own myfilter() function which works exactly like\n",
    "Python's built-in function filter()"
   ]
  },
  {
   "cell_type": "code",
   "execution_count": 7,
   "metadata": {},
   "outputs": [
    {
     "data": {
      "text/plain": [
       "[2, 3, 4, 5, 1]"
      ]
     },
     "execution_count": 7,
     "metadata": {},
     "output_type": "execute_result"
    }
   ],
   "source": [
    "def chk(a):\n",
    "    if a>0 :\n",
    "        return True\n",
    "    else :\n",
    "        return False   \n",
    "    \n",
    "def MyFilter(fx,s):\n",
    "    m=[]\n",
    "    ans=0\n",
    "    for r in s:\n",
    "        ans=fx(s[r])\n",
    "        if ans==True:\n",
    "            m.append(s[r])\n",
    "    return m\n",
    "\n",
    "seq=MyFilter(chk,[1,2,3,4,5,0])\n",
    "seq\n"
   ]
  },
  {
   "cell_type": "markdown",
   "metadata": {},
   "source": [
    "Implement List comprehensions to produce the following lists."
   ]
  },
  {
   "cell_type": "code",
   "execution_count": 8,
   "metadata": {},
   "outputs": [
    {
     "data": {
      "text/plain": [
       "['A', 'C', 'A', 'D', 'G', 'I', 'L', 'D']"
      ]
     },
     "execution_count": 8,
     "metadata": {},
     "output_type": "execute_result"
    }
   ],
   "source": [
    "l=['A', 'C', 'A', 'D', 'G', 'I', 'L', 'D']\n",
    "x=[i for i in l]\n",
    "x"
   ]
  },
  {
   "cell_type": "code",
   "execution_count": 9,
   "metadata": {},
   "outputs": [
    {
     "data": {
      "text/plain": [
       "['X', 'XX', 'XXX', 'XXXX', 'Y', 'YY', 'YYY', 'YYYY', 'Z', 'ZZ', 'ZZZ', 'ZZZZ']"
      ]
     },
     "execution_count": 9,
     "metadata": {},
     "output_type": "execute_result"
    }
   ],
   "source": [
    "l1=['X', 'Y', 'Z']\n",
    "x1=[i*ii for i in l1 for ii in range(5) if i*ii is not '']\n",
    "x1"
   ]
  },
  {
   "cell_type": "code",
   "execution_count": 10,
   "metadata": {},
   "outputs": [
    {
     "data": {
      "text/plain": [
       "['X', 'Y', 'Z', 'XX', 'YY', 'ZZ', 'XX', 'YY', 'ZZ', 'XXXX', 'YYYY', 'ZZZZ']"
      ]
     },
     "execution_count": 10,
     "metadata": {},
     "output_type": "execute_result"
    }
   ],
   "source": [
    "l2=['X', 'Y', 'Z']\n",
    "lx=[1,2,2,4]\n",
    "x3=[]\n",
    "for ii in lx:\n",
    "    if ii!=0:\n",
    "        x2=[i*ii for i in l1]\n",
    "        x3.extend(x2)\n",
    "x3"
   ]
  },
  {
   "cell_type": "code",
   "execution_count": 11,
   "metadata": {},
   "outputs": [
    {
     "data": {
      "text/plain": [
       "[[2], [3], [4], [3], [4], [5], [4], [5], [6]]"
      ]
     },
     "execution_count": 11,
     "metadata": {},
     "output_type": "execute_result"
    }
   ],
   "source": [
    "l3=[1,2,3]\n",
    "x5=[]\n",
    "for x in range(1,4):\n",
    "    x4=[i+x for i in l3]\n",
    "    for y in range(3):\n",
    "        x5.append([x4[y]])\n",
    "x5    \n"
   ]
  },
  {
   "cell_type": "code",
   "execution_count": 12,
   "metadata": {},
   "outputs": [
    {
     "data": {
      "text/plain": [
       "[[2, 3, 4, 5], [3, 4, 5, 6], [4, 5, 6, 7], [5, 6, 7, 8]]"
      ]
     },
     "execution_count": 12,
     "metadata": {},
     "output_type": "execute_result"
    }
   ],
   "source": [
    "l4=[1,2,3,4]\n",
    "x6=[]\n",
    "for x in range(1,5):\n",
    "    x5=[i+x for i in l4]\n",
    "    x6.append(x5)\n",
    "x6"
   ]
  },
  {
   "cell_type": "code",
   "execution_count": 13,
   "metadata": {},
   "outputs": [
    {
     "data": {
      "text/plain": [
       "[(1, 1), (2, 1), (3, 1), (1, 2), (2, 2), (3, 2), (1, 3), (2, 3), (3, 3)]"
      ]
     },
     "execution_count": 13,
     "metadata": {},
     "output_type": "execute_result"
    }
   ],
   "source": [
    "def crt(x,y):\n",
    "    return (x,y)\n",
    "\n",
    "x8=[crt(ii,i) for i in range(1,4) for ii in range(1,4)]\n",
    "x8"
   ]
  },
  {
   "cell_type": "markdown",
   "metadata": {},
   "source": [
    "Implement a function longestWord() that takes a list of words and returns the longest one"
   ]
  },
  {
   "cell_type": "code",
   "execution_count": 16,
   "metadata": {},
   "outputs": [
    {
     "data": {
      "text/plain": [
       "'Kishanchand'"
      ]
     },
     "execution_count": 16,
     "metadata": {},
     "output_type": "execute_result"
    }
   ],
   "source": [
    "from functools import reduce\n",
    "def LongestWord(x,y):\n",
    "    if len(x)>len(y):\n",
    "        return x\n",
    "    else:\n",
    "        return y\n",
    "\n",
    "ns=reduce(LongestWord,['Malani','Poonam','Kishanchand'])        \n",
    "ns"
   ]
  },
  {
   "cell_type": "markdown",
   "metadata": {},
   "source": [
    "Write a Python Program(with class concepts) to find the area of the triangle"
   ]
  },
  {
   "cell_type": "code",
   "execution_count": 4,
   "metadata": {},
   "outputs": [
    {
     "name": "stdout",
     "output_type": "stream",
     "text": [
      "Input length of side A: 3\n",
      "Input length of side B: 4\n",
      "Input length of side C: 5\n",
      "Length of Side A: 3 , Length of Side B: 4 , Length of Side C: 5\n",
      "Area of the Triange is : %s 6.0\n"
     ]
    },
    {
     "data": {
      "text/plain": [
       "6.0"
      ]
     },
     "execution_count": 4,
     "metadata": {},
     "output_type": "execute_result"
    }
   ],
   "source": [
    "class tri_base:\n",
    "    def __init__(self):\n",
    "        self.a=0\n",
    "        self.b=0\n",
    "        self.c=0\n",
    "        \n",
    "    def setsides(self):\n",
    "        try:\n",
    "            self.a=int(input('Input length of side A: '))\n",
    "            self.b=int(input('Input length of side B: '))\n",
    "            self.c=int(input('Input length of side C: '))\n",
    "        except exception as e:\n",
    "            print(e)\n",
    "            \n",
    "    def getsides(self):\n",
    "        return 'Length of Side A: ' + str(self.a) + ' , Length of Side B: ' + str(self.b) + ' , Length of Side C: ' + str(self.c)\n",
    "\n",
    "class tri_more(tri_base):\n",
    "    def cal_area(self):\n",
    "        s=(self.a+self.b+self.c)/2\n",
    "        return ((s*(s-self.a)*(s-self.b)*(s-self.c)) ** 0.5)    \n",
    "    \n",
    "a=tri_more()\n",
    "a.setsides()\n",
    "print(a.getsides())\n",
    "print('Area of the Triange is : %s',a.cal_area())\n"
   ]
  },
  {
   "cell_type": "markdown",
   "metadata": {},
   "source": [
    "Write a function filter_long_words() that takes a list of words and an integer n and returns the list\n",
    "of words that are longer than n."
   ]
  },
  {
   "cell_type": "code",
   "execution_count": 17,
   "metadata": {},
   "outputs": [
    {
     "data": {
      "text/plain": [
       "['poonam', 'kishanchand', 'malani']"
      ]
     },
     "execution_count": 17,
     "metadata": {},
     "output_type": "execute_result"
    }
   ],
   "source": [
    "def filter_long_words(lt,n):\n",
    "    rs=[]\n",
    "    for i in lt:\n",
    "        if(len(i)>n):\n",
    "            rs.append(i)\n",
    "    return rs\n",
    "    \n",
    "\n",
    "filter_long_words(['poonam','kishanchand','malani'],5)"
   ]
  },
  {
   "cell_type": "markdown",
   "metadata": {},
   "source": [
    "Write a Python program using function concept that maps list of words into a list of integers\n",
    "representing the lengths of the corresponding words ."
   ]
  },
  {
   "cell_type": "code",
   "execution_count": 18,
   "metadata": {},
   "outputs": [
    {
     "data": {
      "text/plain": [
       "[6, 11, 6]"
      ]
     },
     "execution_count": 18,
     "metadata": {},
     "output_type": "execute_result"
    }
   ],
   "source": [
    "def len_list(lt):\n",
    "    rs=[]\n",
    "    for i in lt:\n",
    "        rs.append(len(i))\n",
    "    return rs\n",
    "\n",
    "len_list(['poonam','kishanchand','malani'])"
   ]
  },
  {
   "cell_type": "markdown",
   "metadata": {},
   "source": [
    "Write a Python function which takes a character (i.e. a string of length 1) and returns True if it is\n",
    "a vowel, False otherwise."
   ]
  },
  {
   "cell_type": "code",
   "execution_count": 19,
   "metadata": {},
   "outputs": [
    {
     "data": {
      "text/plain": [
       "True"
      ]
     },
     "execution_count": 19,
     "metadata": {},
     "output_type": "execute_result"
    }
   ],
   "source": [
    "def chk_vowel(c):\n",
    "    lc=['a','e','i','o','u']\n",
    "    if c in lc:\n",
    "        return True\n",
    "    else:\n",
    "        return False\n",
    "\n",
    "chk_vowel('i')"
   ]
  },
  {
   "cell_type": "code",
   "execution_count": null,
   "metadata": {},
   "outputs": [],
   "source": []
  }
 ],
 "metadata": {
  "kernelspec": {
   "display_name": "Python 3",
   "language": "python",
   "name": "python3"
  },
  "language_info": {
   "codemirror_mode": {
    "name": "ipython",
    "version": 3
   },
   "file_extension": ".py",
   "mimetype": "text/x-python",
   "name": "python",
   "nbconvert_exporter": "python",
   "pygments_lexer": "ipython3",
   "version": "3.6.5"
  }
 },
 "nbformat": 4,
 "nbformat_minor": 2
}
